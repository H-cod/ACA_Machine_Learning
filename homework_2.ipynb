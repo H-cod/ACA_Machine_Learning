{
 "cells": [
  {
   "cell_type": "code",
   "execution_count": 1,
   "metadata": {},
   "outputs": [
    {
     "data": {
      "text/plain": [
       "'no numbers given'"
      ]
     },
     "execution_count": 1,
     "metadata": {},
     "output_type": "execute_result"
    }
   ],
   "source": [
    "def my_max(*args):\n",
    "    \n",
    "    if len(args) < 1:\n",
    "        return 'no numbers given'\n",
    "    result = args[0]\n",
    "    for idx, element in enumerate(args):\n",
    "        if idx + 1 < len(args):\n",
    "            if result < args[idx + 1]:\n",
    "                result = args[idx + 1]\n",
    "    return result\n",
    "    \n",
    "my_max(2, 4, 6, 8, 3)\n",
    "my_max()"
   ]
  },
  {
   "cell_type": "code",
   "execution_count": 2,
   "metadata": {},
   "outputs": [
    {
     "data": {
      "text/plain": [
       "[1, 2, 4]"
      ]
     },
     "execution_count": 2,
     "metadata": {},
     "output_type": "execute_result"
    }
   ],
   "source": [
    "def list_into_set(data: list):\n",
    "    data = set(data)\n",
    "    return list(data)\n",
    "\n",
    "\n",
    "list_into_set([1, 2, 2, 2, 4])"
   ]
  },
  {
   "cell_type": "code",
   "execution_count": 5,
   "metadata": {},
   "outputs": [],
   "source": [
    "def fib_n(n: int):\n",
    "    a, b = 0,1\n",
    "    for i in range(n):\n",
    "        a, b = b, a + b\n",
    "    return b\n",
    "fib_n(6)           "
   ]
  },
  {
   "cell_type": "code",
   "execution_count": 34,
   "metadata": {},
   "outputs": [
    {
     "data": {
      "text/plain": [
       "'bye everyone'"
      ]
     },
     "execution_count": 34,
     "metadata": {},
     "output_type": "execute_result"
    }
   ],
   "source": [
    "class Person(object):\n",
    "    \n",
    "    def __init__(self, name, last_name, age, gender, student: bool):\n",
    "        self.name = name\n",
    "        self.last_name = last_name\n",
    "        self.age = age\n",
    "        self.student = student\n",
    "        self._password = None\n",
    "        \n",
    "    def greating(self, second_person):\n",
    "        return f'Welcome {second_person.name}'\n",
    "        \n",
    "    def goodbye(self):\n",
    "        return 'bye everyone'\n",
    "    \n",
    "    def favorite_num(self, num1: int):\n",
    "        return 'my favorite number is {}'.format(num1)\n",
    "    \n",
    "    def read_file(self, filename):\n",
    "        filename = f'{filename}.txt'\n",
    "        with open(filename, 'r') as f:\n",
    "            for file in f:\n",
    "                print(file)\n",
    "                \n",
    "    @property\n",
    "    def password(self):\n",
    "        return self._password\n",
    "    \n",
    "    @password.setter\n",
    "    def password(self, value):\n",
    "        self._password = value\n",
    "                \n",
    "human = Person('Hayk', 'Nersesyan', '24', 'male', False)\n",
    "human.goodbye()"
   ]
  },
  {
   "cell_type": "code",
   "execution_count": 35,
   "metadata": {},
   "outputs": [
    {
     "data": {
      "text/plain": [
       "'my favorite number is 7'"
      ]
     },
     "execution_count": 35,
     "metadata": {},
     "output_type": "execute_result"
    }
   ],
   "source": [
    "human.favorite_num(7)"
   ]
  },
  {
   "cell_type": "code",
   "execution_count": 36,
   "metadata": {},
   "outputs": [
    {
     "name": "stdout",
     "output_type": "stream",
     "text": [
      "Some random text\n",
      "\n",
      "for testing\n"
     ]
    }
   ],
   "source": [
    "human.read_file('text')"
   ]
  },
  {
   "cell_type": "code",
   "execution_count": 37,
   "metadata": {},
   "outputs": [],
   "source": [
    "human.password = 'bdhnsjakl'"
   ]
  },
  {
   "cell_type": "code",
   "execution_count": 38,
   "metadata": {},
   "outputs": [
    {
     "data": {
      "text/plain": [
       "'bdhnsjakl'"
      ]
     },
     "execution_count": 38,
     "metadata": {},
     "output_type": "execute_result"
    }
   ],
   "source": [
    "human.password"
   ]
  },
  {
   "cell_type": "code",
   "execution_count": 39,
   "metadata": {},
   "outputs": [],
   "source": [
    "human2 = Person('Valod', 'Valodyan', '100', 'male', True)"
   ]
  },
  {
   "cell_type": "code",
   "execution_count": 40,
   "metadata": {},
   "outputs": [
    {
     "data": {
      "text/plain": [
       "'Welcome Valod'"
      ]
     },
     "execution_count": 40,
     "metadata": {},
     "output_type": "execute_result"
    }
   ],
   "source": [
    "human.greating(human2)"
   ]
  },
  {
   "cell_type": "code",
   "execution_count": 7,
   "metadata": {},
   "outputs": [],
   "source": [
    "class Calculation(object):\n",
    "    \n",
    "    def __init__(self, x, y):\n",
    "        self.x = x\n",
    "        self.y = y\n",
    "        \n",
    "    def addition(self):\n",
    "        return self.y + self.x\n",
    "    \n",
    "    def subtraction(self):\n",
    "        return self.x - self.y\n",
    "        \n",
    "        \n",
    "        \n",
    "class MyCalculation(Calculation):\n",
    "    \n",
    "    def __init__(self, x, y):\n",
    "        super().__init__(x,y)\n",
    "    \n",
    "    \n",
    "    def multiplication(self):\n",
    "        return self.x * self.y\n",
    "    \n",
    "    def divison(self):\n",
    "        return self.x / self.y\n",
    "    \n",
    "    \n",
    "        \n",
    "    "
   ]
  },
  {
   "cell_type": "code",
   "execution_count": 9,
   "metadata": {},
   "outputs": [
    {
     "name": "stdout",
     "output_type": "stream",
     "text": [
      "-2\n",
      "8\n",
      "15\n",
      "0.6\n"
     ]
    }
   ],
   "source": [
    "obj = MyCalculation(3, 5)\n",
    "\n",
    "print(obj.subtraction())\n",
    "print(obj.addition())\n",
    "print(obj.multiplication())\n",
    "print(obj.divison())"
   ]
  },
  {
   "cell_type": "code",
   "execution_count": null,
   "metadata": {},
   "outputs": [],
   "source": []
  }
 ],
 "metadata": {
  "kernelspec": {
   "display_name": "Python 3",
   "language": "python",
   "name": "python3"
  },
  "language_info": {
   "codemirror_mode": {
    "name": "ipython",
    "version": 3
   },
   "file_extension": ".py",
   "mimetype": "text/x-python",
   "name": "python",
   "nbconvert_exporter": "python",
   "pygments_lexer": "ipython3",
   "version": "3.7.6"
  }
 },
 "nbformat": 4,
 "nbformat_minor": 4
}
