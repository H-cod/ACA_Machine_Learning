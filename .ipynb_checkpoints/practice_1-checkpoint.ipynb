{
 "cells": [
  {
   "cell_type": "code",
   "execution_count": 3,
   "metadata": {},
   "outputs": [
    {
     "name": "stdout",
     "output_type": "stream",
     "text": [
      "['hello', 1, True]\n",
      "Enter your value! 4\n",
      "['hello', 1, True, '4']\n"
     ]
    }
   ],
   "source": [
    "list1 = [\"hello\", 1, True]\n",
    "print(list1)\n",
    "\n",
    "new_value = input('Enter your value! ')\n",
    "\n",
    "list1.append(new_value)\n",
    "print(list1)"
   ]
  },
  {
   "cell_type": "code",
   "execution_count": 4,
   "metadata": {},
   "outputs": [
    {
     "name": "stdout",
     "output_type": "stream",
     "text": [
      "['b', 'c', 'd', 'g', 'h', 'i', 'j']\n"
     ]
    }
   ],
   "source": [
    "list2 = 'a b c d e f g h i j'.split()\n",
    "del list2[5]\n",
    "del list2[4]\n",
    "del list2[0]\n",
    "\n",
    "print(list2)"
   ]
  },
  {
   "cell_type": "code",
   "execution_count": 6,
   "metadata": {},
   "outputs": [
    {
     "name": "stdout",
     "output_type": "stream",
     "text": [
      "Enter a number! 3\n",
      "True\n"
     ]
    }
   ],
   "source": [
    "my_set = {1,2,3,4}\n",
    "\n",
    "number = int(input('Enter a number! '))\n",
    "\n",
    "if number in range(min(my_set),max(my_set)):\n",
    "    print(True)\n",
    "else:\n",
    "    print(False)"
   ]
  },
  {
   "cell_type": "code",
   "execution_count": 8,
   "metadata": {},
   "outputs": [
    {
     "name": "stdout",
     "output_type": "stream",
     "text": [
      "{'a': '1', 'b': '2'}\n",
      "Enter a key for your dict! c\n",
      "Enter a value for your dict! 3\n",
      "{'a': '1', 'b': '2', 'c': '3'}\n"
     ]
    }
   ],
   "source": [
    "dict1 = {'a': '1', 'b': '2'}\n",
    "print(dict1)\n",
    "\n",
    "key = input('Enter a key for your dict! ')\n",
    "value = input('Enter a value for your dict! ')\n",
    "\n",
    "dict1[key] = value\n",
    "print(dict1)"
   ]
  },
  {
   "cell_type": "code",
   "execution_count": 11,
   "metadata": {},
   "outputs": [
    {
     "name": "stdout",
     "output_type": "stream",
     "text": [
      "Enter a number 4\n",
      "Enter a second number 4\n",
      "square\n"
     ]
    }
   ],
   "source": [
    "a = int(input('Enter a number '))\n",
    "b = int(input('Enter a second number '))\n",
    "\n",
    "if a == b:\n",
    "    print('square')\n",
    "else:\n",
    "    print('rectangle')"
   ]
  },
  {
   "cell_type": "code",
   "execution_count": 17,
   "metadata": {},
   "outputs": [
    {
     "name": "stdout",
     "output_type": "stream",
     "text": [
      "Welcome mr Betman!\n"
     ]
    }
   ],
   "source": [
    "name, age, password = 'Batman', 24, '123456*'\n",
    "\n",
    "if name == 'Batman':\n",
    "    print('Welcome mr Betman!')\n",
    "if age < 16:\n",
    "    print('You are too young!')\n",
    "if '*' not in password and '&' not in password:\n",
    "    print('something')"
   ]
  },
  {
   "cell_type": "code",
   "execution_count": 18,
   "metadata": {},
   "outputs": [
    {
     "name": "stdout",
     "output_type": "stream",
     "text": [
      "1\n",
      "3\n",
      "5\n",
      "7\n",
      "9\n",
      "11\n",
      "13\n",
      "15\n",
      "17\n",
      "19\n",
      "21\n",
      "23\n",
      "25\n",
      "27\n",
      "29\n",
      "31\n",
      "33\n",
      "35\n",
      "37\n",
      "39\n",
      "41\n",
      "43\n",
      "45\n",
      "47\n",
      "49\n",
      "51\n",
      "53\n",
      "55\n",
      "57\n",
      "59\n",
      "61\n",
      "63\n",
      "65\n",
      "67\n",
      "69\n",
      "71\n",
      "73\n",
      "75\n",
      "77\n",
      "79\n",
      "81\n",
      "83\n",
      "85\n",
      "87\n",
      "89\n",
      "91\n",
      "93\n",
      "95\n",
      "97\n",
      "99\n"
     ]
    }
   ],
   "source": [
    "for num in range(1, 101):\n",
    "    if num % 2 != 0:\n",
    "        print(num)"
   ]
  },
  {
   "cell_type": "code",
   "execution_count": 20,
   "metadata": {},
   "outputs": [
    {
     "name": "stdout",
     "output_type": "stream",
     "text": [
      "1\n",
      "2\n",
      "3\n",
      "4\n",
      "5\n",
      "6\n",
      "7\n",
      "8\n",
      "9\n",
      "10\n",
      "11\n",
      "12\n",
      "13\n",
      "14\n"
     ]
    }
   ],
   "source": [
    "for num in range(1,20):\n",
    "    if num % 3 == 0 and num % 5 == 0:\n",
    "        break\n",
    "    print(num)"
   ]
  },
  {
   "cell_type": "code",
   "execution_count": 23,
   "metadata": {},
   "outputs": [
    {
     "name": "stdout",
     "output_type": "stream",
     "text": [
      "[56, 98, 22, 64]\n"
     ]
    }
   ],
   "source": [
    "list1 = [1, 2, 3, 4, 5, 56, 98, 22, 64, 3]\n",
    "\n",
    "list2 = [num for num in list1 if num > 20]\n",
    "print(list2)"
   ]
  },
  {
   "cell_type": "code",
   "execution_count": null,
   "metadata": {},
   "outputs": [],
   "source": []
  }
 ],
 "metadata": {
  "kernelspec": {
   "display_name": "Python 3",
   "language": "python",
   "name": "python3"
  },
  "language_info": {
   "codemirror_mode": {
    "name": "ipython",
    "version": 3
   },
   "file_extension": ".py",
   "mimetype": "text/x-python",
   "name": "python",
   "nbconvert_exporter": "python",
   "pygments_lexer": "ipython3",
   "version": "3.7.6"
  }
 },
 "nbformat": 4,
 "nbformat_minor": 4
}
