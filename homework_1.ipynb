{
 "cells": [
  {
   "cell_type": "code",
   "execution_count": 6,
   "metadata": {},
   "outputs": [
    {
     "name": "stdout",
     "output_type": "stream",
     "text": [
      "Input your value! 2\n",
      "number  of 2s = 2\n"
     ]
    }
   ],
   "source": [
    "list2 = [0, 'hi', 2, 100, 300, 2]\n",
    "\n",
    "value = input('Input your value! ')\n",
    "\n",
    "if value.isnumeric():\n",
    "    value = int(value)\n",
    "\n",
    "count_number = list2.count(value)\n",
    "\n",
    "print(f'number  of {value}s = {count_number}')"
   ]
  },
  {
   "cell_type": "code",
   "execution_count": 9,
   "metadata": {},
   "outputs": [
    {
     "name": "stdout",
     "output_type": "stream",
     "text": [
      "(1, 2, 3, 4, 5, 6, 7)\n",
      "(1, 2, 3, 4, 'hello', 6, 7)\n"
     ]
    }
   ],
   "source": [
    "t2 = 1, 2, 3, 4, 5, 6, 7\n",
    "print(t2)\n",
    "\n",
    "t2 = list(t2)\n",
    "t2[4] = 'hello'\n",
    "\n",
    "t2 = tuple(t2)\n",
    "\n",
    "print(t2)"
   ]
  },
  {
   "cell_type": "code",
   "execution_count": 11,
   "metadata": {},
   "outputs": [
    {
     "name": "stdout",
     "output_type": "stream",
     "text": [
      "80\n"
     ]
    }
   ],
   "source": [
    "d1 =  {\n",
    "    \"name\": 'Armen', \n",
    "    'age': 15,\n",
    "    'grades':[10, 8, 8, 4, 6, 7],\n",
    "    'weight': 80\n",
    "}\n",
    "\n",
    "if 'weight' not in d1.keys():\n",
    "    weight = int(input('some number '))\n",
    "    d1['weight'] = weight\n",
    "    \n",
    "print(d1.get('weight'))"
   ]
  },
  {
   "cell_type": "code",
   "execution_count": 12,
   "metadata": {},
   "outputs": [
    {
     "name": "stdout",
     "output_type": "stream",
     "text": [
      "Enter your number! 4\n",
      "Enter your number! 7\n",
      "Enter your number! 5\n",
      "That was a good guess!\n"
     ]
    }
   ],
   "source": [
    "correct_num = 5\n",
    "\n",
    "while True:\n",
    "    guess = int(input('Enter your number! '))\n",
    "    if guess == correct_num:\n",
    "        print('That was a good guess!')\n",
    "        break\n",
    "        "
   ]
  },
  {
   "cell_type": "code",
   "execution_count": 14,
   "metadata": {},
   "outputs": [
    {
     "name": "stdout",
     "output_type": "stream",
     "text": [
      "['aba', '1221']\n"
     ]
    }
   ],
   "source": [
    "list1 = ['a', 'abc', 'xyz', 's', 'aba', '1221']\n",
    "list2 = [item for item in list1 if item[0] == item[-1] and len(item) > 2]\n",
    "print(list2)"
   ]
  },
  {
   "cell_type": "code",
   "execution_count": null,
   "metadata": {},
   "outputs": [],
   "source": []
  }
 ],
 "metadata": {
  "kernelspec": {
   "display_name": "Python 3",
   "language": "python",
   "name": "python3"
  },
  "language_info": {
   "codemirror_mode": {
    "name": "ipython",
    "version": 3
   },
   "file_extension": ".py",
   "mimetype": "text/x-python",
   "name": "python",
   "nbconvert_exporter": "python",
   "pygments_lexer": "ipython3",
   "version": "3.7.6"
  }
 },
 "nbformat": 4,
 "nbformat_minor": 4
}
