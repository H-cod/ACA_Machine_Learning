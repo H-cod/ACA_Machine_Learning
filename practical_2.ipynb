{
 "cells": [
  {
   "cell_type": "code",
   "execution_count": 2,
   "metadata": {},
   "outputs": [
    {
     "data": {
      "text/plain": [
       "5.0"
      ]
     },
     "execution_count": 2,
     "metadata": {},
     "output_type": "execute_result"
    }
   ],
   "source": [
    "def int_awe(a: int, b: int, c: int):\n",
    "    return (a + b + c) /3\n",
    "\n",
    "int_awe(4,5,6)"
   ]
  },
  {
   "cell_type": "code",
   "execution_count": 4,
   "metadata": {},
   "outputs": [
    {
     "name": "stdout",
     "output_type": "stream",
     "text": [
      "1\n",
      "3\n",
      "5\n",
      "7\n",
      "9\n"
     ]
    }
   ],
   "source": [
    "def even_list(data: list):\n",
    "    for i in data:\n",
    "        if i % 2 != 0:\n",
    "            print(i)\n",
    "            \n",
    "even_list([1,2,3,5,7,9])"
   ]
  },
  {
   "cell_type": "code",
   "execution_count": 8,
   "metadata": {},
   "outputs": [
    {
     "data": {
      "text/plain": [
       "'Hayk llllllll 5.0'"
      ]
     },
     "execution_count": 8,
     "metadata": {},
     "output_type": "execute_result"
    }
   ],
   "source": [
    "def something(name: str, *args):\n",
    "    if len(args) > 1:\n",
    "        return f'{name} llllllll {sum(args) / len(args)}'\n",
    "    return f'No ......... {name}'\n",
    "\n",
    "something('Hayk')\n",
    "something(\"Hayk\", 4,5,6)"
   ]
  },
  {
   "cell_type": "code",
   "execution_count": 11,
   "metadata": {},
   "outputs": [
    {
     "name": "stdout",
     "output_type": "stream",
     "text": [
      "A green circle with radius 5\n"
     ]
    }
   ],
   "source": [
    "class Circle(object):\n",
    "    \n",
    "    def __init__(self, radius: float, color: str):\n",
    "        self.radius = radius\n",
    "        self.color = color\n",
    "        \n",
    "    def getDesc(self):\n",
    "        print(f'A {self.color} circle with radius {self.radius}')\n",
    "        \n",
    "        \n",
    "circle1 = Circle(5, 'green')\n",
    "\n",
    "circle1.getDesc()\n",
    "        "
   ]
  },
  {
   "cell_type": "code",
   "execution_count": 17,
   "metadata": {},
   "outputs": [
    {
     "name": "stdout",
     "output_type": "stream",
     "text": [
      "Hayk Nersesyan\n"
     ]
    },
    {
     "data": {
      "text/plain": [
       "'High'"
      ]
     },
     "execution_count": 17,
     "metadata": {},
     "output_type": "execute_result"
    }
   ],
   "source": [
    "class Employee(object):\n",
    "    \n",
    "    def __init__(self, name: str, last_name: str, month_salary):\n",
    "        self.name = name\n",
    "        self.last_name = last_name\n",
    "        self.__month_salary = month_salary\n",
    "        \n",
    "    def getFullName(self):\n",
    "        return f'{self.name} {self.last_name}'\n",
    "    \n",
    "    def annualSalary(self):\n",
    "        if self.__month_salary * 12 > 100:\n",
    "            return 'High'\n",
    "        return 'Low'\n",
    "    \n",
    "    \n",
    "worker1 = Employee('Hayk', 'Nersesyan', 10000000000)\n",
    "\n",
    "print(worker1.getFullName())\n",
    "worker1.annualSalary()\n",
    "    \n",
    "        \n",
    "    \n",
    "    "
   ]
  },
  {
   "cell_type": "code",
   "execution_count": 22,
   "metadata": {},
   "outputs": [
    {
     "data": {
      "text/plain": [
       "'Car2 is better'"
      ]
     },
     "execution_count": 22,
     "metadata": {},
     "output_type": "execute_result"
    }
   ],
   "source": [
    "class Car(object):\n",
    "    \n",
    "    def __init__(self, model: str, color: str, max_speed: float):\n",
    "        self.model = model\n",
    "        self.color = color\n",
    "        self.max_speed = max_speed\n",
    "        \n",
    "    \n",
    "    def compareCar(self, car2):\n",
    "        if self.max_speed > car2.max_speed:\n",
    "            return 'Car1 is better than Car2'\n",
    "        return 'Car2 is better'\n",
    "    \n",
    "Car1 = Car('Lamborgini', 'yellow', 400)\n",
    "Car2 = Car('Everything else', 'black', 300)\n",
    "\n",
    "Car1.compareCar(Car2)\n",
    "Car2.compareCar(Car1)"
   ]
  },
  {
   "cell_type": "code",
   "execution_count": 38,
   "metadata": {},
   "outputs": [
    {
     "data": {
      "text/plain": [
       "'Rex'"
      ]
     },
     "execution_count": 38,
     "metadata": {},
     "output_type": "execute_result"
    }
   ],
   "source": [
    "class Animal(object):\n",
    "    \n",
    "    def __init__(self, name: str):\n",
    "        self.name = name\n",
    "        \n",
    "    def move(self):\n",
    "        return 'I can move'\n",
    "    \n",
    "class Dog(Animal):\n",
    "    \n",
    "    \n",
    "    def __init__(self, name):\n",
    "        super().__init__(name)\n",
    "        \n",
    "    def move(self):\n",
    "        return 'I can run really fast'\n",
    "        \n",
    "rex = Dog('Rex')\n",
    "\n",
    "rex.move()\n",
    "rex.name\n"
   ]
  },
  {
   "cell_type": "code",
   "execution_count": null,
   "metadata": {},
   "outputs": [],
   "source": []
  }
 ],
 "metadata": {
  "kernelspec": {
   "display_name": "Python 3",
   "language": "python",
   "name": "python3"
  },
  "language_info": {
   "codemirror_mode": {
    "name": "ipython",
    "version": 3
   },
   "file_extension": ".py",
   "mimetype": "text/x-python",
   "name": "python",
   "nbconvert_exporter": "python",
   "pygments_lexer": "ipython3",
   "version": "3.7.6"
  }
 },
 "nbformat": 4,
 "nbformat_minor": 4
}
